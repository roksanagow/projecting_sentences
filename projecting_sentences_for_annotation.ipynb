{
 "cells": [
  {
   "cell_type": "code",
   "execution_count": 1,
   "metadata": {},
   "outputs": [],
   "source": [
    "# Load your sentences as a list of strings\n",
    "my_sentences = [\n",
    "    \"Walking along the river bank is peaceful.\",\n",
    "    \"I went to the bank to get a loan.\",\n",
    "    \"The bank closed today.\",\n",
    "    \"I am a banking executive.\",\n",
    "    \"We had a picnic on the bank of the stream.\",\n",
    "    \"She withdrew money from the bank before the trip.\",\n",
    "    \"The boat was tied to the river bank.\",\n",
    "    \"He applied for a job at the national bank.\",\n",
    "    \"The floodwater rose above the river bank.\",\n",
    "    \"She cashed a check at the bank near her office.\",\n",
    "    \"Birds nested in the shrubs along the bank.\",\n",
    "    \"He deposited his paycheck into his bank account.\",\n",
    "    \"Children were skipping stones from the river bank.\",\n",
    "    \"The bank manager approved our mortgage.\",\n",
    "]\n",
    "\n",
    "# Define the target word \n",
    "word = 'bank'\n"
   ]
  },
  {
   "cell_type": "code",
   "execution_count": 2,
   "metadata": {},
   "outputs": [
    {
     "name": "stderr",
     "output_type": "stream",
     "text": [
      "No sentence-transformers model found with name /Users/roksana/.cache/torch/sentence_transformers/bert-base-multilingual-uncased. Creating a new one with MEAN pooling.\n"
     ]
    }
   ],
   "source": [
    "from sentence_transformers import SentenceTransformer\n",
    "# Load the model\n",
    "model = SentenceTransformer('bert-base-multilingual-uncased') \n",
    "# Other models to try:  FacebookAI/xlm-roberta-base (XLM-R), pierluigic/xl-lexeme (XL-LEXEME), google-bert/bert-base-chinese (Chinese), google/muril-base-cased (Indic Multilingual)\n",
    "# Find more language-specific models on https://huggingface.co/models\n",
    "# Generate the embeddings by encoding the sentences\n",
    "my_embeddings = model.encode(my_sentences)\n"
   ]
  },
  {
   "cell_type": "code",
   "execution_count": null,
   "metadata": {},
   "outputs": [
    {
     "name": "stderr",
     "output_type": "stream",
     "text": [
      "huggingface/tokenizers: The current process just got forked, after parallelism has already been used. Disabling parallelism to avoid deadlocks...\n",
      "To disable this warning, you can either:\n",
      "\t- Avoid using `tokenizers` before the fork if possible\n",
      "\t- Explicitly set the environment variable TOKENIZERS_PARALLELISM=(true | false)\n"
     ]
    },
    {
     "data": {
      "application/vnd.jupyter.widget-view+json": {
       "model_id": "514871f680b94fdb88d31a315f88df37",
       "version_major": 2,
       "version_minor": 0
      },
      "text/plain": [
       "HBox(children=(Button(button_style='info', description='Next Label', style=ButtonStyle()), Button(button_style…"
      ]
     },
     "metadata": {},
     "output_type": "display_data"
    },
    {
     "data": {
      "application/vnd.jupyter.widget-view+json": {
       "model_id": "5a35e50350974962868468cea7e83426",
       "version_major": 2,
       "version_minor": 0
      },
      "text/plain": [
       "FigureWidget({\n",
       "    'data': [{'hoverinfo': 'text',\n",
       "              'marker': {'color': [grey, grey, grey, grey, grey, grey, grey, grey,\n",
       "                                   grey, grey, grey, grey, grey, grey],\n",
       "                         'size': [10, 10, 10, 10, 10, 10, 10, 10, 10, 10, 10, 10,\n",
       "                                  10, 10]},\n",
       "              'mode': 'markers',\n",
       "              'text': [Walking along the river <b>bank</b> is peaceful., I went to\n",
       "                       the <b>bank</b> to get a loan., The <b>bank</b> closed\n",
       "                       today., I am a <b>bank</b>ing executive., We had a picnic on\n",
       "                       the <b>bank</b> of the stream., She withdrew money from the\n",
       "                       <b>bank</b> before the trip., The boat was tied to the river\n",
       "                       <b>bank</b>., He applied for a job at the national\n",
       "                       <b>bank</b>., The floodwater rose above the river\n",
       "                       <b>bank</b>., She cashed a check at the <b>bank</b> near her\n",
       "                       office., Birds nested in the shrubs along the <b>bank</b>.,\n",
       "                       He deposited his paycheck into his <b>bank</b> account.,\n",
       "                       Children were skipping stones from the river <b>bank</b>.,\n",
       "                       The <b>bank</b> manager approved our mortgage.],\n",
       "              'type': 'scatter',\n",
       "              'uid': '376f1c66-dcab-4055-b121-c5d1c5711900',\n",
       "              'x': array([ 1.5389366 , -1.2612071 , -1.9808336 , -2.7801678 ,  2.1681778 ,\n",
       "                          -0.84101766,  0.79200953, -0.9970288 ,  1.0188451 , -0.84749365,\n",
       "                           4.235932  , -1.0207257 ,  1.9026691 , -1.928096  ], dtype=float32),\n",
       "              'y': array([-1.6824307 ,  2.0919678 , -2.3253841 , -1.8556522 ,  0.45323917,\n",
       "                           1.0356841 , -0.64837897,  2.347066  , -1.3185176 ,  1.7798005 ,\n",
       "                           0.41410273,  1.6800632 , -0.7268974 , -1.244662  ], dtype=float32)}],\n",
       "    'layout': {'height': 700,\n",
       "               'hovermode': 'closest',\n",
       "               'template': '...',\n",
       "               'title': {'text': 'Embeddings of sentences projected using PCA'},\n",
       "               'width': 700,\n",
       "               'xaxis': {'title': {'text': 'Dimension 1'}},\n",
       "               'yaxis': {'title': {'text': 'Dimension 2'}}}\n",
       "})"
      ]
     },
     "metadata": {},
     "output_type": "display_data"
    },
    {
     "data": {
      "application/vnd.jupyter.widget-view+json": {
       "model_id": "55d25585c3834d4eb7318b17f113156d",
       "version_major": 2,
       "version_minor": 0
      },
      "text/plain": [
       "Output()"
      ]
     },
     "metadata": {},
     "output_type": "display_data"
    }
   ],
   "source": [
    "# Imports required in the notebook only\n",
    "from functions import project_group_and_scatter_plot_embeddings_interactive\n",
    "\n",
    "fig = project_group_and_scatter_plot_embeddings_interactive(\n",
    "    embeddings=my_embeddings,\n",
    "    sentences=my_sentences,\n",
    "    words=[word] * len(my_sentences),\n",
    "    n_clusters=5,\n",
    "    dim_reducer='umap'\n",
    ")\n"
   ]
  },
  {
   "cell_type": "code",
   "execution_count": null,
   "metadata": {},
   "outputs": [],
   "source": []
  }
 ],
 "metadata": {
  "kernelspec": {
   "display_name": "Python 3",
   "language": "python",
   "name": "python3"
  },
  "language_info": {
   "codemirror_mode": {
    "name": "ipython",
    "version": 3
   },
   "file_extension": ".py",
   "mimetype": "text/x-python",
   "name": "python",
   "nbconvert_exporter": "python",
   "pygments_lexer": "ipython3",
   "version": "3.11.9"
  }
 },
 "nbformat": 4,
 "nbformat_minor": 2
}
